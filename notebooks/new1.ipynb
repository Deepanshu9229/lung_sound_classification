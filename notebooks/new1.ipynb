{
 "cells": [
  {
   "cell_type": "code",
   "execution_count": null,
   "metadata": {},
   "outputs": [],
   "source": []
  },
  {
   "cell_type": "markdown",
   "metadata": {},
   "source": [
    "# Code for Training and Evaluation"
   ]
  },
  {
   "cell_type": "code",
   "execution_count": 1,
   "metadata": {},
   "outputs": [
    {
     "name": "stderr",
     "output_type": "stream",
     "text": [
      "c:\\Users\\Deepanshu patel\\AppData\\Local\\Programs\\Python\\Python312\\Lib\\site-packages\\librosa\\core\\spectrum.py:266: UserWarning: n_fft=2048 is too large for input signal of length=1920\n",
      "  warnings.warn(\n",
      "INFO:root:Model and scaler saved successfully.\n",
      "INFO:root:Accuracy: 0.897119341563786\n",
      "INFO:root:Classification Report:\n",
      "              precision    recall  f1-score   support\n",
      "\n",
      "   Bronchial       0.84      0.76      0.80        21\n",
      "      asthma       0.83      0.84      0.84        58\n",
      "        copd       0.95      0.94      0.94        80\n",
      "     healthy       0.96      0.93      0.94        27\n",
      "   pneumonia       0.88      0.93      0.91        57\n",
      "\n",
      "    accuracy                           0.90       243\n",
      "   macro avg       0.89      0.88      0.89       243\n",
      "weighted avg       0.90      0.90      0.90       243\n",
      "\n",
      "INFO:root:Confusion Matrix:\n",
      "[[16  4  0  0  1]\n",
      " [ 3 49  1  1  4]\n",
      " [ 0  4 75  0  1]\n",
      " [ 0  0  1 25  1]\n",
      " [ 0  2  2  0 53]]\n"
     ]
    }
   ],
   "source": [
    "import os\n",
    "import librosa\n",
    "import numpy as np\n",
    "import joblib\n",
    "import logging\n",
    "from sklearn.metrics import accuracy_score, confusion_matrix, classification_report\n",
    "from sklearn.model_selection import train_test_split, RandomizedSearchCV\n",
    "from sklearn.ensemble import RandomForestClassifier\n",
    "from sklearn.utils.class_weight import compute_class_weight\n",
    "from sklearn.preprocessing import StandardScaler\n",
    "from imblearn.over_sampling import SMOTE\n",
    "\n",
    "# Set up logging\n",
    "logging.basicConfig(level=logging.INFO)\n",
    "\n",
    "DATA_PATH = \"D:\\\\Saare_Projects\\\\ML_project\\\\final_Lung_Sound_Detection\\\\audio_sample\\\\Asthma Detection Dataset Version 2\"\n",
    "CLASSES = [\"asthma\", \"Bronchial\", \"copd\", \"healthy\", \"pneumonia\"]\n",
    "\n",
    "def extract_mfcc_features(file_path, n_mfcc=20):\n",
    "    try:\n",
    "        sample, sample_rate = librosa.load(file_path, sr=None)\n",
    "        mfccs = librosa.feature.mfcc(y=sample, sr=sample_rate, n_mfcc=n_mfcc)\n",
    "        return np.mean(mfccs.T, axis=0)\n",
    "    except Exception as e:\n",
    "        logging.warning(f\"Error processing file {file_path}: {e}\")\n",
    "        return None\n",
    "\n",
    "def load_data(data_path, classes):\n",
    "    features, labels = [], []\n",
    "    for class_name in classes:\n",
    "        class_folder = os.path.join(data_path, class_name)\n",
    "        for file_name in os.listdir(class_folder):\n",
    "            if file_name.endswith('.wav'):\n",
    "                file_path = os.path.join(class_folder, file_name)\n",
    "                mfcc = extract_mfcc_features(file_path)\n",
    "                if mfcc is not None:\n",
    "                    features.append(mfcc)\n",
    "                    labels.append(class_name)\n",
    "    return np.array(features), np.array(labels)\n",
    "\n",
    "# Load data and split\n",
    "X, y = load_data(DATA_PATH, CLASSES)\n",
    "X_train, X_test, y_train, y_test = train_test_split(X, y, test_size=0.2, stratify=y, random_state=42)\n",
    "\n",
    "# Resample with SMOTE\n",
    "smote = SMOTE(random_state=42)\n",
    "X_train, y_train = smote.fit_resample(X_train, y_train)\n",
    "\n",
    "# Scaling\n",
    "scaler = StandardScaler()\n",
    "X_train_scaled = scaler.fit_transform(X_train)\n",
    "X_test_scaled = scaler.transform(X_test)\n",
    "\n",
    "# Save scaler for later\n",
    "joblib.dump(scaler, 'scaler.pkl')\n",
    "\n",
    "# Calculate class weights\n",
    "class_weights = compute_class_weight('balanced', classes=np.unique(y_train), y=y_train)\n",
    "class_weight_dict = dict(zip(np.unique(y_train), class_weights))\n",
    "\n",
    "# Hyperparameter tuning\n",
    "param_dist = {\n",
    "    'n_estimators': [100, 200, 300],\n",
    "    'max_depth': [None, 10, 20, 30],\n",
    "    'min_samples_split': [2, 5, 10],\n",
    "    'min_samples_leaf': [1, 2, 4],\n",
    "    'max_features': ['sqrt', 'log2'],\n",
    "}\n",
    "rf_model = RandomForestClassifier(class_weight=class_weight_dict, random_state=42)\n",
    "search = RandomizedSearchCV(rf_model, param_distributions=param_dist, n_iter=50, cv=3, n_jobs=-1, random_state=42)\n",
    "search.fit(X_train_scaled, y_train)\n",
    "\n",
    "# Save best model\n",
    "best_model = search.best_estimator_\n",
    "joblib.dump(best_model, 'random_forest_model.pkl')\n",
    "logging.info(\"Model and scaler saved successfully.\")\n",
    "\n",
    "# Evaluation\n",
    "y_pred = best_model.predict(X_test_scaled)\n",
    "logging.info(f\"Accuracy: {accuracy_score(y_test, y_pred)}\")\n",
    "logging.info(f\"Classification Report:\\n{classification_report(y_test, y_pred)}\")\n",
    "logging.info(f\"Confusion Matrix:\\n{confusion_matrix(y_test, y_pred)}\")\n"
   ]
  },
  {
   "cell_type": "markdown",
   "metadata": {},
   "source": [
    "# Prediction Code"
   ]
  },
  {
   "cell_type": "code",
   "execution_count": 2,
   "metadata": {},
   "outputs": [
    {
     "name": "stdout",
     "output_type": "stream",
     "text": [
      "The predicted class is: healthy\n"
     ]
    }
   ],
   "source": [
    "import joblib\n",
    "import librosa\n",
    "import numpy as np\n",
    "\n",
    "# Load the pre-trained model and scaler\n",
    "model = joblib.load('random_forest_model.pkl')\n",
    "scaler = joblib.load('scaler.pkl')\n",
    "CLASSES = [\"asthma\", \"Bronchial\", \"copd\", \"healthy\", \"pneumonia\"]\n",
    "\n",
    "def extract_mfcc_features(file_path, n_mfcc=20):\n",
    "    try:\n",
    "        sample, sample_rate = librosa.load(file_path, sr=None)\n",
    "        mfccs = librosa.feature.mfcc(y=sample, sr=sample_rate, n_mfcc=n_mfcc)\n",
    "        return np.mean(mfccs.T, axis=0)\n",
    "    except Exception as e:\n",
    "        logging.warning(f\"Error processing file {file_path}: {e}\")\n",
    "        return None\n",
    "\n",
    "# Predict\n",
    "def predict(file_path):\n",
    "    features = extract_mfcc_features(file_path)\n",
    "    if features is None:\n",
    "        return \"Error in feature extraction\"\n",
    "\n",
    "    # Scale features with loaded scaler\n",
    "    features_scaled = scaler.transform([features])\n",
    "    prediction = model.predict(features_scaled)[0]\n",
    "    return f\"The predicted class is: {prediction}\"\n",
    "\n",
    "# Test prediction\n",
    "file_path = \"D:\\\\Saare_Projects\\\\ML_project\\\\final_Lung_Sound_Detection\\\\audio_sample\\\\Asthma Detection Dataset Version 2\\\\healthy\\\\P15Healthy61S.wav\"\n",
    "print(predict(file_path))\n"
   ]
  },
  {
   "cell_type": "code",
   "execution_count": 3,
   "metadata": {},
   "outputs": [
    {
     "data": {
      "text/plain": [
       "['random_forest_model.pkl']"
      ]
     },
     "execution_count": 3,
     "metadata": {},
     "output_type": "execute_result"
    }
   ],
   "source": [
    "joblib.dump(scaler, 'scaler.pkl')\n",
    "joblib.dump(best_model, 'random_forest_model.pkl')\n"
   ]
  },
  {
   "cell_type": "code",
   "execution_count": 4,
   "metadata": {},
   "outputs": [
    {
     "data": {
      "text/plain": [
       "['scaler.pkl']"
      ]
     },
     "execution_count": 4,
     "metadata": {},
     "output_type": "execute_result"
    }
   ],
   "source": [
    "joblib.dump(scaler, 'scaler.pkl')\n"
   ]
  },
  {
   "cell_type": "code",
   "execution_count": 5,
   "metadata": {},
   "outputs": [
    {
     "name": "stderr",
     "output_type": "stream",
     "text": [
      "INFO:root:Model and scaler saved successfully.\n"
     ]
    }
   ],
   "source": [
    "# Save scaler for later use\n",
    "joblib.dump(scaler, 'scaler.pkl')\n",
    "\n",
    "# Save the best model\n",
    "joblib.dump(best_model, 'random_forest_model.pkl')\n",
    "logging.info(\"Model and scaler saved successfully.\")\n"
   ]
  },
  {
   "cell_type": "code",
   "execution_count": null,
   "metadata": {},
   "outputs": [],
   "source": []
  }
 ],
 "metadata": {
  "kernelspec": {
   "display_name": "Python 3",
   "language": "python",
   "name": "python3"
  },
  "language_info": {
   "codemirror_mode": {
    "name": "ipython",
    "version": 3
   },
   "file_extension": ".py",
   "mimetype": "text/x-python",
   "name": "python",
   "nbconvert_exporter": "python",
   "pygments_lexer": "ipython3",
   "version": "3.12.3"
  }
 },
 "nbformat": 4,
 "nbformat_minor": 2
}
